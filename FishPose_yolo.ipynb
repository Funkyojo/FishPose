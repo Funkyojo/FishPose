{
  "nbformat": 4,
  "nbformat_minor": 0,
  "metadata": {
    "colab": {
      "name": "FishPose_yolo.ipynb",
      "provenance": [],
      "collapsed_sections": [],
      "mount_file_id": "1YLkQspZIKks88iRc-_-7_LSjBmHfBDQ4",
      "authorship_tag": "ABX9TyNughAChbA5ITIL6iTZ0Y9R",
      "include_colab_link": true
    },
    "kernelspec": {
      "name": "python3",
      "display_name": "Python 3"
    },
    "accelerator": "GPU"
  },
  "cells": [
    {
      "cell_type": "markdown",
      "metadata": {
        "id": "view-in-github",
        "colab_type": "text"
      },
      "source": [
        "<a href=\"https://colab.research.google.com/github/Funkyojo/FishPose/blob/master/FishPose_yolo.ipynb\" target=\"_parent\"><img src=\"https://colab.research.google.com/assets/colab-badge.svg\" alt=\"Open In Colab\"/></a>"
      ]
    },
    {
      "cell_type": "code",
      "metadata": {
        "id": "dmUHDPEnbQZj",
        "colab_type": "code",
        "colab": {}
      },
      "source": [
        "import os\n",
        "import math\n",
        "import numpy as np\n",
        "import tensorflow as tf\n",
        "from tensorflow import keras\n",
        "from tensorflow.python.framework import ops\n",
        "from PIL import Image, ImageDraw\n",
        "import sys\n",
        "import random"
      ],
      "execution_count": 0,
      "outputs": []
    },
    {
      "cell_type": "code",
      "metadata": {
        "id": "smNWr9_AbRJC",
        "colab_type": "code",
        "colab": {}
      },
      "source": [
        "class FP_yolo(keras.Model):\n",
        "    def __init__(self):\n",
        "        super(FP_base, self).__init__()\n",
        "        self.c1 = keras.layers.Conv2D(filters=48, kernel_size=5, strides=2, activation=tf.nn.relu, padding='same', input_shape=(100, 300, 1))\n",
        "        self.p1 = keras.layers.MaxPool2D(pool_size = 2, padding = 'same')\n",
        "\n",
        "        self.c2 = keras.layers.Conv2D(filters=128, kernel_size=5, strides=1, activation=tf.nn.relu, padding='same')\n",
        "        self.p2 = keras.layers.MaxPool2D(pool_size = 2, padding = 'same')\n",
        "        \n",
        "        self.c3 = keras.layers.Conv2D(filters=192, kernel_size=5, strides=2, activation=tf.nn.relu, padding='same')\n",
        "        self.p3 = keras.layers.MaxPool2D(pool_size = 2, padding = 'same')\n",
        "\n",
        "        self.c4 = keras.layers.Conv2D(filters=64, kernel_size=1, strides=1, activation=tf.nn.relu, padding='same')\n",
        "\n",
        "        #FP part\n",
        "        self.f = keras.layers.Flatten()        \n",
        "        self.d7 = keras.layers.Dense(512, activation=tf.nn.relu)\n",
        "        self.d8 = keras.layers.Dense(15, activation= None)        \n",
        "\n",
        "        #yolo part\n",
        "        #self.u5 = \n",
        "        self.c5 = keras.layers.Conv2D(filters=64, kernel_size=1, strides=1, activation=tf.nn.relu, padding='same')\n",
        "        self.c6 = keras.layers.Conv2D(filters=5, kernel_size=1, strides=1, activation=tf.nn.relu, padding='same')\n",
        "        \n",
        "\n",
        "    def call(self, inputs):\n",
        "        X = self.c1(inputs)\n",
        "        X = self.p1(X)\n",
        "        X = self.c2(X)\n",
        "        X = self.p2(X)\n",
        "        X = self.c3(X)\n",
        "        X = self.p3(X)\n",
        "\n",
        "        FP = self.c4(X)\n",
        "        FP = self.f(FP)\n",
        "        FP = self.d7(FP)\n",
        "        FP = self.d8(FP)\n",
        "\n",
        "        YO = tf.image.resize(X, (1,67), method = 'nearest')\n",
        "        YO = self.c5(YO)\n",
        "        YO = self.c6(YO)\n",
        "        YO = self.f(YO)\n",
        "        \n",
        "        return tf.concat((FP,YO), axis=1)\n",
        "\n",
        "def read_label(f_name):\n",
        "    \"\"\"\n",
        "    Read a \"FishPose\" label in the form: pres y   x\n",
        "    or\n",
        "    Test: read a \"FishPose-YOLO\" label for the dorsal spine in the form:\n",
        "    pres y_base x_base y_tip x_tip\n",
        "    row number corresponds to horizontal grid\n",
        "    \"\"\"\n",
        "    label = np.loadtxt(f_name, delimiter = '\\t')\n",
        "    return label.flatten()\n",
        "\n",
        "def load_dataset(folder):\n",
        "    fil_list = os.listdir(folder)\n",
        "    n_f = len(fil_list)//3\n",
        "    X_orig = np.zeros((n_f, 100, 300, 1))\n",
        "    Y_orig = np.zeros((n_f, 5*3))\n",
        "    Y_yolo_orig = np.zeros((n_f, 67*5))\n",
        "    counter = 0\n",
        "    for f in fil_list:\n",
        "        if f.endswith(\".txt\") and (not f.endswith(\"DS.txt\")):\n",
        "            img_f = f[:-3] + \"bmp\"\n",
        "            yolo_f = f[:-4] + \"_DS.txt\"\n",
        "            X_orig[counter,:,:,0] = np.array(Image.open(folder+img_f))\n",
        "            Y_orig[counter] = read_label(folder+f) \n",
        "            Y_yolo_orig[counter] = read_label(folder + yolo_f)\n",
        "            counter += 1\n",
        "    X = X_orig/255.\n",
        "    Y = np.concatenate((Y_orig, Y_yolo_orig), axis=1)\n",
        "    return X, Y\n",
        "\n",
        "def getCosts(pres_true, coord_true, pres_pred, coord_pred, pres_cap = 0.05):\n",
        "    pres_cost = tf.nn.sigmoid_cross_entropy_with_logits(labels = pres_true, logits = pres_pred)\n",
        "    coord_cost = tf.norm(tf.multiply(coord_pred - coord_true,[1,3]), ord = 2, axis=2)\n",
        "\n",
        "    pres_not_ignore = tf.math.sign(pres_true + 1)\n",
        "    pres_inds = tf.nn.relu(pres_true)\n",
        "\n",
        "    RealPresCost = tf.nn.relu(tf.math.reduce_mean(tf.math.multiply(pres_not_ignore, pres_cost) - pres_cap))\n",
        "    RealCoordCost = tf.math.reduce_mean(tf.math.multiply(pres_inds, coord_cost))\n",
        "    return RealPresCost + RealCoordCost\n",
        "\n",
        "def FP_loss(y_true, y_pred):\n",
        "    FP_true = tf.reshape(y_true[:,:5*3], (-1,5,3))\n",
        "    FP_pred = tf.reshape(y_pred[:,:5*3], (-1,5,3))\n",
        "    Yolo_true = tf.reshape(y_true[:,5*3:], (-1,67,5))\n",
        "    Yolo_pred = tf.reshape(y_pred[:,5*3:], (-1,67,5))\n",
        "\n",
        "    #FP part (first 5 dots)\n",
        "    pres_true = FP_true[:,:,0]\n",
        "    coord_true = FP_true[:,:,1:]\n",
        "    pres_pred = FP_pred[:,:,0]\n",
        "    coord_pred = FP_pred[:,:,1:]\n",
        "    FP_costs = getCosts(pres_true, coord_true, pres_pred, coord_pred)\n",
        "    \n",
        "    #Yolo part (dorsal spines)\n",
        "    Y_pres_true = tf.reshape(tf.repeat(Yolo_true[:,:,0], 2), (-1,67*2))\n",
        "    Y_coord_true = tf.reshape(Yolo_true[:,:,1:],(-1,67*2,2))\n",
        "    Y_pres_pred = tf.reshape(tf.repeat(Yolo_pred[:,:,0], 2), (-1,67*2))\n",
        "    Y_coord_pred = tf.reshape(Yolo_pred[:,:,1:],(-1,67*2,2))\n",
        "    Yolo_costs = getCosts(Y_pres_true, Y_coord_true, Y_pres_pred, Y_coord_pred)\n",
        "\n",
        "    return FP_costs + Yolo_costs\n",
        "\n",
        "def random_color_gen():\n",
        "    # Generates a random color in hex format\n",
        "    color = \"#\"+''.join([random.choice('6789ABCDEF') for j in range(6)])\n",
        "    #emmitted lower values to make color brighter\n",
        "    return color\n",
        "\n"
      ],
      "execution_count": 0,
      "outputs": []
    },
    {
      "cell_type": "code",
      "metadata": {
        "id": "RdhWIbCbo8Gn",
        "colab_type": "code",
        "colab": {}
      },
      "source": [
        "!unzip Inputs_20200602_yolo.zip"
      ],
      "execution_count": 0,
      "outputs": []
    },
    {
      "cell_type": "code",
      "metadata": {
        "id": "X_yY5QzIpAkA",
        "colab_type": "code",
        "outputId": "7d69d428-fec2-47a6-f25f-21194b3a2f4b",
        "colab": {
          "base_uri": "https://localhost:8080/",
          "height": 36
        }
      },
      "source": [
        "train_f = 'Inputs_20200602_yolo/'\n",
        "test_f = train_f + 'test_set/'\n",
        "\n",
        "X_train, Y_train = load_dataset(train_f)\n",
        "X_test, Y_test = load_dataset(test_f)\n",
        "\n",
        "print('X_train, Y_train, X_test, Y_test shapes: ', X_train.shape, Y_train.shape, X_test.shape, Y_test.shape)"
      ],
      "execution_count": 0,
      "outputs": [
        {
          "output_type": "stream",
          "text": [
            "X_train, Y_train, X_test, Y_test shapes:  (2860, 100, 300, 1) (2860, 350) (24, 100, 300, 1) (24, 350)\n"
          ],
          "name": "stdout"
        }
      ]
    },
    {
      "cell_type": "code",
      "metadata": {
        "id": "arieqkv1pAgX",
        "colab_type": "code",
        "outputId": "ce07364f-447d-4483-a88b-5ac70b75d686",
        "colab": {
          "base_uri": "https://localhost:8080/",
          "height": 616
        }
      },
      "source": [
        "model = FP_yolo()\n",
        "model.compile(optimizer='adam',loss=FP_loss)\n",
        "model.build(input_shape=(None,100,300,1))\n",
        "model.summary()"
      ],
      "execution_count": 0,
      "outputs": [
        {
          "output_type": "stream",
          "text": [
            "Model: \"fp_base_18\"\n",
            "_________________________________________________________________\n",
            "Layer (type)                 Output Shape              Param #   \n",
            "=================================================================\n",
            "conv2d_86 (Conv2D)           multiple                  1248      \n",
            "_________________________________________________________________\n",
            "max_pooling2d_54 (MaxPooling multiple                  0         \n",
            "_________________________________________________________________\n",
            "conv2d_87 (Conv2D)           multiple                  153728    \n",
            "_________________________________________________________________\n",
            "max_pooling2d_55 (MaxPooling multiple                  0         \n",
            "_________________________________________________________________\n",
            "conv2d_88 (Conv2D)           multiple                  614592    \n",
            "_________________________________________________________________\n",
            "max_pooling2d_56 (MaxPooling multiple                  0         \n",
            "_________________________________________________________________\n",
            "conv2d_89 (Conv2D)           multiple                  12352     \n",
            "_________________________________________________________________\n",
            "flatten_18 (Flatten)         multiple                  0         \n",
            "_________________________________________________________________\n",
            "dense_36 (Dense)             multiple                  1311232   \n",
            "_________________________________________________________________\n",
            "dense_37 (Dense)             multiple                  7695      \n",
            "_________________________________________________________________\n",
            "conv2d_90 (Conv2D)           multiple                  12352     \n",
            "_________________________________________________________________\n",
            "conv2d_91 (Conv2D)           multiple                  325       \n",
            "=================================================================\n",
            "Total params: 2,113,524\n",
            "Trainable params: 2,113,524\n",
            "Non-trainable params: 0\n",
            "_________________________________________________________________\n"
          ],
          "name": "stdout"
        }
      ]
    },
    {
      "cell_type": "code",
      "metadata": {
        "id": "5ZBiYaRCpAct",
        "colab_type": "code",
        "outputId": "1d668e59-60c6-4bfa-c6ab-233d7a2f6a84",
        "colab": {
          "base_uri": "https://localhost:8080/",
          "height": 480
        }
      },
      "source": [
        "history = model.fit(X_train, Y_train, batch_size=64, epochs=100, validation_data=(X_test, Y_test))"
      ],
      "execution_count": 0,
      "outputs": [
        {
          "output_type": "stream",
          "text": [
            "Epoch 1/100\n",
            "45/45 [==============================] - 2s 45ms/step - loss: 0.5564 - val_loss: 0.8155\n",
            "Epoch 2/100\n",
            "45/45 [==============================] - 2s 40ms/step - loss: 0.3302 - val_loss: 0.7828\n",
            "Epoch 3/100\n",
            "45/45 [==============================] - 2s 39ms/step - loss: 0.3144 - val_loss: 0.8040\n",
            "Epoch 4/100\n",
            "43/45 [===========================>..] - ETA: 0s - loss: 0.2970"
          ],
          "name": "stdout"
        },
        {
          "output_type": "error",
          "ename": "KeyboardInterrupt",
          "evalue": "ignored",
          "traceback": [
            "\u001b[0;31m---------------------------------------------------------------------------\u001b[0m",
            "\u001b[0;31mKeyboardInterrupt\u001b[0m                         Traceback (most recent call last)",
            "\u001b[0;32m<ipython-input-76-5cefc25dae5e>\u001b[0m in \u001b[0;36m<module>\u001b[0;34m()\u001b[0m\n\u001b[0;32m----> 1\u001b[0;31m \u001b[0mhistory\u001b[0m \u001b[0;34m=\u001b[0m \u001b[0mmodel\u001b[0m\u001b[0;34m.\u001b[0m\u001b[0mfit\u001b[0m\u001b[0;34m(\u001b[0m\u001b[0mX_train\u001b[0m\u001b[0;34m,\u001b[0m \u001b[0mY_train\u001b[0m\u001b[0;34m,\u001b[0m \u001b[0mbatch_size\u001b[0m\u001b[0;34m=\u001b[0m\u001b[0;36m64\u001b[0m\u001b[0;34m,\u001b[0m \u001b[0mepochs\u001b[0m\u001b[0;34m=\u001b[0m\u001b[0;36m100\u001b[0m\u001b[0;34m,\u001b[0m \u001b[0mvalidation_data\u001b[0m\u001b[0;34m=\u001b[0m\u001b[0;34m(\u001b[0m\u001b[0mX_test\u001b[0m\u001b[0;34m,\u001b[0m \u001b[0mY_test\u001b[0m\u001b[0;34m)\u001b[0m\u001b[0;34m)\u001b[0m\u001b[0;34m\u001b[0m\u001b[0;34m\u001b[0m\u001b[0m\n\u001b[0m",
            "\u001b[0;32m/usr/local/lib/python3.6/dist-packages/tensorflow/python/keras/engine/training.py\u001b[0m in \u001b[0;36m_method_wrapper\u001b[0;34m(self, *args, **kwargs)\u001b[0m\n\u001b[1;32m     64\u001b[0m   \u001b[0;32mdef\u001b[0m \u001b[0m_method_wrapper\u001b[0m\u001b[0;34m(\u001b[0m\u001b[0mself\u001b[0m\u001b[0;34m,\u001b[0m \u001b[0;34m*\u001b[0m\u001b[0margs\u001b[0m\u001b[0;34m,\u001b[0m \u001b[0;34m**\u001b[0m\u001b[0mkwargs\u001b[0m\u001b[0;34m)\u001b[0m\u001b[0;34m:\u001b[0m\u001b[0;34m\u001b[0m\u001b[0;34m\u001b[0m\u001b[0m\n\u001b[1;32m     65\u001b[0m     \u001b[0;32mif\u001b[0m \u001b[0;32mnot\u001b[0m \u001b[0mself\u001b[0m\u001b[0;34m.\u001b[0m\u001b[0m_in_multi_worker_mode\u001b[0m\u001b[0;34m(\u001b[0m\u001b[0;34m)\u001b[0m\u001b[0;34m:\u001b[0m  \u001b[0;31m# pylint: disable=protected-access\u001b[0m\u001b[0;34m\u001b[0m\u001b[0;34m\u001b[0m\u001b[0m\n\u001b[0;32m---> 66\u001b[0;31m       \u001b[0;32mreturn\u001b[0m \u001b[0mmethod\u001b[0m\u001b[0;34m(\u001b[0m\u001b[0mself\u001b[0m\u001b[0;34m,\u001b[0m \u001b[0;34m*\u001b[0m\u001b[0margs\u001b[0m\u001b[0;34m,\u001b[0m \u001b[0;34m**\u001b[0m\u001b[0mkwargs\u001b[0m\u001b[0;34m)\u001b[0m\u001b[0;34m\u001b[0m\u001b[0;34m\u001b[0m\u001b[0m\n\u001b[0m\u001b[1;32m     67\u001b[0m \u001b[0;34m\u001b[0m\u001b[0m\n\u001b[1;32m     68\u001b[0m     \u001b[0;31m# Running inside `run_distribute_coordinator` already.\u001b[0m\u001b[0;34m\u001b[0m\u001b[0;34m\u001b[0m\u001b[0;34m\u001b[0m\u001b[0m\n",
            "\u001b[0;32m/usr/local/lib/python3.6/dist-packages/tensorflow/python/keras/engine/training.py\u001b[0m in \u001b[0;36mfit\u001b[0;34m(self, x, y, batch_size, epochs, verbose, callbacks, validation_split, validation_data, shuffle, class_weight, sample_weight, initial_epoch, steps_per_epoch, validation_steps, validation_batch_size, validation_freq, max_queue_size, workers, use_multiprocessing)\u001b[0m\n\u001b[1;32m    846\u001b[0m                 batch_size=batch_size):\n\u001b[1;32m    847\u001b[0m               \u001b[0mcallbacks\u001b[0m\u001b[0;34m.\u001b[0m\u001b[0mon_train_batch_begin\u001b[0m\u001b[0;34m(\u001b[0m\u001b[0mstep\u001b[0m\u001b[0;34m)\u001b[0m\u001b[0;34m\u001b[0m\u001b[0;34m\u001b[0m\u001b[0m\n\u001b[0;32m--> 848\u001b[0;31m               \u001b[0mtmp_logs\u001b[0m \u001b[0;34m=\u001b[0m \u001b[0mtrain_function\u001b[0m\u001b[0;34m(\u001b[0m\u001b[0miterator\u001b[0m\u001b[0;34m)\u001b[0m\u001b[0;34m\u001b[0m\u001b[0;34m\u001b[0m\u001b[0m\n\u001b[0m\u001b[1;32m    849\u001b[0m               \u001b[0;31m# Catch OutOfRangeError for Datasets of unknown size.\u001b[0m\u001b[0;34m\u001b[0m\u001b[0;34m\u001b[0m\u001b[0;34m\u001b[0m\u001b[0m\n\u001b[1;32m    850\u001b[0m               \u001b[0;31m# This blocks until the batch has finished executing.\u001b[0m\u001b[0;34m\u001b[0m\u001b[0;34m\u001b[0m\u001b[0;34m\u001b[0m\u001b[0m\n",
            "\u001b[0;32m/usr/local/lib/python3.6/dist-packages/tensorflow/python/eager/def_function.py\u001b[0m in \u001b[0;36m__call__\u001b[0;34m(self, *args, **kwds)\u001b[0m\n\u001b[1;32m    578\u001b[0m         \u001b[0mxla_context\u001b[0m\u001b[0;34m.\u001b[0m\u001b[0mExit\u001b[0m\u001b[0;34m(\u001b[0m\u001b[0;34m)\u001b[0m\u001b[0;34m\u001b[0m\u001b[0;34m\u001b[0m\u001b[0m\n\u001b[1;32m    579\u001b[0m     \u001b[0;32melse\u001b[0m\u001b[0;34m:\u001b[0m\u001b[0;34m\u001b[0m\u001b[0;34m\u001b[0m\u001b[0m\n\u001b[0;32m--> 580\u001b[0;31m       \u001b[0mresult\u001b[0m \u001b[0;34m=\u001b[0m \u001b[0mself\u001b[0m\u001b[0;34m.\u001b[0m\u001b[0m_call\u001b[0m\u001b[0;34m(\u001b[0m\u001b[0;34m*\u001b[0m\u001b[0margs\u001b[0m\u001b[0;34m,\u001b[0m \u001b[0;34m**\u001b[0m\u001b[0mkwds\u001b[0m\u001b[0;34m)\u001b[0m\u001b[0;34m\u001b[0m\u001b[0;34m\u001b[0m\u001b[0m\n\u001b[0m\u001b[1;32m    581\u001b[0m \u001b[0;34m\u001b[0m\u001b[0m\n\u001b[1;32m    582\u001b[0m     \u001b[0;32mif\u001b[0m \u001b[0mtracing_count\u001b[0m \u001b[0;34m==\u001b[0m \u001b[0mself\u001b[0m\u001b[0;34m.\u001b[0m\u001b[0m_get_tracing_count\u001b[0m\u001b[0;34m(\u001b[0m\u001b[0;34m)\u001b[0m\u001b[0;34m:\u001b[0m\u001b[0;34m\u001b[0m\u001b[0;34m\u001b[0m\u001b[0m\n",
            "\u001b[0;32m/usr/local/lib/python3.6/dist-packages/tensorflow/python/eager/def_function.py\u001b[0m in \u001b[0;36m_call\u001b[0;34m(self, *args, **kwds)\u001b[0m\n\u001b[1;32m    609\u001b[0m       \u001b[0;31m# In this case we have created variables on the first call, so we run the\u001b[0m\u001b[0;34m\u001b[0m\u001b[0;34m\u001b[0m\u001b[0;34m\u001b[0m\u001b[0m\n\u001b[1;32m    610\u001b[0m       \u001b[0;31m# defunned version which is guaranteed to never create variables.\u001b[0m\u001b[0;34m\u001b[0m\u001b[0;34m\u001b[0m\u001b[0;34m\u001b[0m\u001b[0m\n\u001b[0;32m--> 611\u001b[0;31m       \u001b[0;32mreturn\u001b[0m \u001b[0mself\u001b[0m\u001b[0;34m.\u001b[0m\u001b[0m_stateless_fn\u001b[0m\u001b[0;34m(\u001b[0m\u001b[0;34m*\u001b[0m\u001b[0margs\u001b[0m\u001b[0;34m,\u001b[0m \u001b[0;34m**\u001b[0m\u001b[0mkwds\u001b[0m\u001b[0;34m)\u001b[0m  \u001b[0;31m# pylint: disable=not-callable\u001b[0m\u001b[0;34m\u001b[0m\u001b[0;34m\u001b[0m\u001b[0m\n\u001b[0m\u001b[1;32m    612\u001b[0m     \u001b[0;32melif\u001b[0m \u001b[0mself\u001b[0m\u001b[0;34m.\u001b[0m\u001b[0m_stateful_fn\u001b[0m \u001b[0;32mis\u001b[0m \u001b[0;32mnot\u001b[0m \u001b[0;32mNone\u001b[0m\u001b[0;34m:\u001b[0m\u001b[0;34m\u001b[0m\u001b[0;34m\u001b[0m\u001b[0m\n\u001b[1;32m    613\u001b[0m       \u001b[0;31m# Release the lock early so that multiple threads can perform the call\u001b[0m\u001b[0;34m\u001b[0m\u001b[0;34m\u001b[0m\u001b[0;34m\u001b[0m\u001b[0m\n",
            "\u001b[0;32m/usr/local/lib/python3.6/dist-packages/tensorflow/python/eager/function.py\u001b[0m in \u001b[0;36m__call__\u001b[0;34m(self, *args, **kwargs)\u001b[0m\n\u001b[1;32m   2418\u001b[0m     \u001b[0;32mwith\u001b[0m \u001b[0mself\u001b[0m\u001b[0;34m.\u001b[0m\u001b[0m_lock\u001b[0m\u001b[0;34m:\u001b[0m\u001b[0;34m\u001b[0m\u001b[0;34m\u001b[0m\u001b[0m\n\u001b[1;32m   2419\u001b[0m       \u001b[0mgraph_function\u001b[0m\u001b[0;34m,\u001b[0m \u001b[0margs\u001b[0m\u001b[0;34m,\u001b[0m \u001b[0mkwargs\u001b[0m \u001b[0;34m=\u001b[0m \u001b[0mself\u001b[0m\u001b[0;34m.\u001b[0m\u001b[0m_maybe_define_function\u001b[0m\u001b[0;34m(\u001b[0m\u001b[0margs\u001b[0m\u001b[0;34m,\u001b[0m \u001b[0mkwargs\u001b[0m\u001b[0;34m)\u001b[0m\u001b[0;34m\u001b[0m\u001b[0;34m\u001b[0m\u001b[0m\n\u001b[0;32m-> 2420\u001b[0;31m     \u001b[0;32mreturn\u001b[0m \u001b[0mgraph_function\u001b[0m\u001b[0;34m.\u001b[0m\u001b[0m_filtered_call\u001b[0m\u001b[0;34m(\u001b[0m\u001b[0margs\u001b[0m\u001b[0;34m,\u001b[0m \u001b[0mkwargs\u001b[0m\u001b[0;34m)\u001b[0m  \u001b[0;31m# pylint: disable=protected-access\u001b[0m\u001b[0;34m\u001b[0m\u001b[0;34m\u001b[0m\u001b[0m\n\u001b[0m\u001b[1;32m   2421\u001b[0m \u001b[0;34m\u001b[0m\u001b[0m\n\u001b[1;32m   2422\u001b[0m   \u001b[0;34m@\u001b[0m\u001b[0mproperty\u001b[0m\u001b[0;34m\u001b[0m\u001b[0;34m\u001b[0m\u001b[0m\n",
            "\u001b[0;32m/usr/local/lib/python3.6/dist-packages/tensorflow/python/eager/function.py\u001b[0m in \u001b[0;36m_filtered_call\u001b[0;34m(self, args, kwargs)\u001b[0m\n\u001b[1;32m   1663\u001b[0m          if isinstance(t, (ops.Tensor,\n\u001b[1;32m   1664\u001b[0m                            resource_variable_ops.BaseResourceVariable))),\n\u001b[0;32m-> 1665\u001b[0;31m         self.captured_inputs)\n\u001b[0m\u001b[1;32m   1666\u001b[0m \u001b[0;34m\u001b[0m\u001b[0m\n\u001b[1;32m   1667\u001b[0m   \u001b[0;32mdef\u001b[0m \u001b[0m_call_flat\u001b[0m\u001b[0;34m(\u001b[0m\u001b[0mself\u001b[0m\u001b[0;34m,\u001b[0m \u001b[0margs\u001b[0m\u001b[0;34m,\u001b[0m \u001b[0mcaptured_inputs\u001b[0m\u001b[0;34m,\u001b[0m \u001b[0mcancellation_manager\u001b[0m\u001b[0;34m=\u001b[0m\u001b[0;32mNone\u001b[0m\u001b[0;34m)\u001b[0m\u001b[0;34m:\u001b[0m\u001b[0;34m\u001b[0m\u001b[0;34m\u001b[0m\u001b[0m\n",
            "\u001b[0;32m/usr/local/lib/python3.6/dist-packages/tensorflow/python/eager/function.py\u001b[0m in \u001b[0;36m_call_flat\u001b[0;34m(self, args, captured_inputs, cancellation_manager)\u001b[0m\n\u001b[1;32m   1744\u001b[0m       \u001b[0;31m# No tape is watching; skip to running the function.\u001b[0m\u001b[0;34m\u001b[0m\u001b[0;34m\u001b[0m\u001b[0;34m\u001b[0m\u001b[0m\n\u001b[1;32m   1745\u001b[0m       return self._build_call_outputs(self._inference_function.call(\n\u001b[0;32m-> 1746\u001b[0;31m           ctx, args, cancellation_manager=cancellation_manager))\n\u001b[0m\u001b[1;32m   1747\u001b[0m     forward_backward = self._select_forward_and_backward_functions(\n\u001b[1;32m   1748\u001b[0m         \u001b[0margs\u001b[0m\u001b[0;34m,\u001b[0m\u001b[0;34m\u001b[0m\u001b[0;34m\u001b[0m\u001b[0m\n",
            "\u001b[0;32m/usr/local/lib/python3.6/dist-packages/tensorflow/python/eager/function.py\u001b[0m in \u001b[0;36mcall\u001b[0;34m(self, ctx, args, cancellation_manager)\u001b[0m\n\u001b[1;32m    596\u001b[0m               \u001b[0minputs\u001b[0m\u001b[0;34m=\u001b[0m\u001b[0margs\u001b[0m\u001b[0;34m,\u001b[0m\u001b[0;34m\u001b[0m\u001b[0;34m\u001b[0m\u001b[0m\n\u001b[1;32m    597\u001b[0m               \u001b[0mattrs\u001b[0m\u001b[0;34m=\u001b[0m\u001b[0mattrs\u001b[0m\u001b[0;34m,\u001b[0m\u001b[0;34m\u001b[0m\u001b[0;34m\u001b[0m\u001b[0m\n\u001b[0;32m--> 598\u001b[0;31m               ctx=ctx)\n\u001b[0m\u001b[1;32m    599\u001b[0m         \u001b[0;32melse\u001b[0m\u001b[0;34m:\u001b[0m\u001b[0;34m\u001b[0m\u001b[0;34m\u001b[0m\u001b[0m\n\u001b[1;32m    600\u001b[0m           outputs = execute.execute_with_cancellation(\n",
            "\u001b[0;32m/usr/local/lib/python3.6/dist-packages/tensorflow/python/eager/execute.py\u001b[0m in \u001b[0;36mquick_execute\u001b[0;34m(op_name, num_outputs, inputs, attrs, ctx, name)\u001b[0m\n\u001b[1;32m     58\u001b[0m     \u001b[0mctx\u001b[0m\u001b[0;34m.\u001b[0m\u001b[0mensure_initialized\u001b[0m\u001b[0;34m(\u001b[0m\u001b[0;34m)\u001b[0m\u001b[0;34m\u001b[0m\u001b[0;34m\u001b[0m\u001b[0m\n\u001b[1;32m     59\u001b[0m     tensors = pywrap_tfe.TFE_Py_Execute(ctx._handle, device_name, op_name,\n\u001b[0;32m---> 60\u001b[0;31m                                         inputs, attrs, num_outputs)\n\u001b[0m\u001b[1;32m     61\u001b[0m   \u001b[0;32mexcept\u001b[0m \u001b[0mcore\u001b[0m\u001b[0;34m.\u001b[0m\u001b[0m_NotOkStatusException\u001b[0m \u001b[0;32mas\u001b[0m \u001b[0me\u001b[0m\u001b[0;34m:\u001b[0m\u001b[0;34m\u001b[0m\u001b[0;34m\u001b[0m\u001b[0m\n\u001b[1;32m     62\u001b[0m     \u001b[0;32mif\u001b[0m \u001b[0mname\u001b[0m \u001b[0;32mis\u001b[0m \u001b[0;32mnot\u001b[0m \u001b[0;32mNone\u001b[0m\u001b[0;34m:\u001b[0m\u001b[0;34m\u001b[0m\u001b[0;34m\u001b[0m\u001b[0m\n",
            "\u001b[0;31mKeyboardInterrupt\u001b[0m: "
          ]
        }
      ]
    },
    {
      "cell_type": "code",
      "metadata": {
        "id": "ZYSA7sLLpMaD",
        "colab_type": "code",
        "outputId": "d18ec18d-66e1-4a87-f2e7-afe75ff337ac",
        "colab": {
          "base_uri": "https://localhost:8080/",
          "height": 149
        }
      },
      "source": [
        "y_pred = model(X_test)"
      ],
      "execution_count": 0,
      "outputs": [
        {
          "output_type": "stream",
          "text": [
            "WARNING:tensorflow:Layer fp_base_9 is casting an input tensor from dtype float64 to the layer's dtype of float32, which is new behavior in TensorFlow 2.  The layer has dtype float32 because it's dtype defaults to floatx.\n",
            "\n",
            "If you intended to run this layer in float32, you can safely ignore this warning. If in doubt, this warning is likely only an issue if you are porting a TensorFlow 1.X model to TensorFlow 2.\n",
            "\n",
            "To change all layers to have dtype float64 by default, call `tf.keras.backend.set_floatx('float64')`. To change just this layer, pass dtype='float64' to the layer constructor. If you are the author of this layer, you can disable autocasting by passing autocast=False to the base Layer constructor.\n",
            "\n"
          ],
          "name": "stdout"
        }
      ]
    },
    {
      "cell_type": "code",
      "metadata": {
        "id": "Q5b7ADr83hK-",
        "colab_type": "code",
        "colab": {}
      },
      "source": [
        "def procure_output(X_test, y_true, y_pred, out_folder):\n",
        "    r = [1,1]\n",
        "    out = open(out_folder + 'output.txt', 'w')\n",
        "\n",
        "    FP_true = y_true[:,:5*3].reshape(-1,5,3)\n",
        "    FP_pred = y_pred[:,:5*3].reshape(-1,5,3)\n",
        "    Yolo_true = y_true[:,5*3:].reshape(-1,67,5)\n",
        "    Yolo_pred = y_pred[:,5*3:].reshape(-1,67,5)\n",
        "\n",
        "    for i in range(X_test.shape[0]):\n",
        "        img = Image.fromarray((X_test[i,:,:,0] * 255.).astype(np.uint8), 'L')\n",
        "        img = img.convert('RGB')\n",
        "        draw = ImageDraw.Draw(img)\n",
        "        \n",
        "        # FP part\n",
        "        lbl = (FP_true[i,:,:] + [0, 0.5, 0.5]) * [1,100,300]\n",
        "        pred = (FP_pred[i,:,:] + [0, 0.5, 0.5]) * [1,100, 300]\n",
        "        # swap y and x to be x, y\n",
        "        lbl = lbl[:,[0,2,1]]\n",
        "        pred = pred[:,[0,2,1]]\n",
        "          \n",
        "        random.seed(0)\n",
        "        for d in range(lbl.shape[0]):\n",
        "            color = random_color_gen()\n",
        "            if lbl[d,0] == 1:\n",
        "                start = tuple(lbl[d,1:])\n",
        "                s0 = tuple(lbl[d,1:] - r)\n",
        "                s1 = tuple(lbl[d,1:] + r)\n",
        "                end = tuple(pred[d,1:])                \n",
        "                draw.line([start, end], fill = color)\n",
        "                draw.rectangle([s0, s1], fill = color)\n",
        "                \n",
        "                toWrite = list(map(str, [i, lbl[d, 1], lbl[d, 2], pred[d, 1], pred[d, 2]]))\n",
        "                out.write('\\t'.join(toWrite) + '\\n')\n",
        "            elif pred[d,0] > 0.5:\n",
        "                s0 = tuple(pred[d,1:] - r)\n",
        "                s1 = tuple(pred[d,1:] + r) \n",
        "                if lbl[d,0] == 0:\n",
        "                    print('bad!')\n",
        "                    draw.ellipse([s0, s1], fill = '#FF0000')\n",
        "                elif lbl[d,0] == -1:\n",
        "                    print('noice')\n",
        "                    draw.ellipse([s0, s1], outline = color)\n",
        "        # Yolo part\n",
        "        # FP part\n",
        "        lbl = (Yolo_true[i,:,:] + [0, 0.5, 0.5, 0.5, 0.5]) * [1,100,300,100,300]\n",
        "        pred = (Yolo_pred[i,:,:] + [0, 0.5, 0.5, 0.5, 0.5]) * [1,100,300,100,300]\n",
        "        #print(pred)\n",
        "        # swap y and x to be x, y\n",
        "        lbl = lbl[:,[0,2,1,4,3]]\n",
        "        pred = pred[:,[0,2,1,4,3]]\n",
        "        #print(\"No!\")\n",
        "        #print(lbl.shape)\n",
        "        for l in range(lbl.shape[0]):\n",
        "            if lbl[l,0] == 1:\n",
        "                #print('here!')\n",
        "                start = tuple(lbl[l,1:3])\n",
        "                end = tuple(lbl[l,3:])\n",
        "                draw.line([start, end], fill = '#000FFF')\n",
        "                if pred[l,0] > 0.5 :\n",
        "                    p_start = tuple(pred[l,1:3])\n",
        "                    p_end = tuple(pred[l,3:])\n",
        "                    draw.line([p_start, p_end], fill = '#00FF00')\n",
        "\n",
        "            elif pred[l,0] > 0.5:\n",
        "                #print('there!')\n",
        "                p_start = tuple(pred[l,1:3])\n",
        "                p_end = tuple(pred[l,3:])\n",
        "                draw.line([p_start, p_end], fill = '#FF0000')\n",
        "\n",
        "        img.save(out_folder + str(i) + '.bmp', 'BMP')\n",
        "        \n",
        "    out.close()"
      ],
      "execution_count": 0,
      "outputs": ['']
    },
    {
      "cell_type": "code",
      "metadata": {
        "id": "xoh0HSnz2hQa",
        "colab_type": "code",
        "colab": {}
      },
      "source": [
        "procure_output(X_test, Y_test, np.array(y_pred), '/content/drive/My Drive/FishPose/output/')"
      ],
      "execution_count": 0,
      "outputs": []
    }
  ]
}
